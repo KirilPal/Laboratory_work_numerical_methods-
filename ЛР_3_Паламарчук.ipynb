{
  "nbformat": 4,
  "nbformat_minor": 0,
  "metadata": {
    "colab": {
      "provenance": [],
      "authorship_tag": "ABX9TyM7m92vzgb0t6xJMLnQC3Cr",
      "include_colab_link": true
    },
    "kernelspec": {
      "name": "python3",
      "display_name": "Python 3"
    },
    "language_info": {
      "name": "python"
    }
  },
  "cells": [
    {
      "cell_type": "markdown",
      "metadata": {
        "id": "view-in-github",
        "colab_type": "text"
      },
      "source": [
        "<a href=\"https://colab.research.google.com/github/KirilPal/Laboratory_work_numerical_methods-/blob/main/%D0%9B%D0%A0_3_%D0%9F%D0%B0%D0%BB%D0%B0%D0%BC%D0%B0%D1%80%D1%87%D1%83%D0%BA.ipynb\" target=\"_parent\"><img src=\"https://colab.research.google.com/assets/colab-badge.svg\" alt=\"Open In Colab\"/></a>"
      ]
    },
    {
      "cell_type": "markdown",
      "source": [
        "#Паламарчук Кіріл\n",
        "Лабораторна робота №8\n",
        "Варіант 22\n",
        "Група 2-8"
      ],
      "metadata": {
        "id": "eR4XIEy-vWPW"
      }
    },
    {
      "cell_type": "markdown",
      "source": [
        "## **Метод Ньютона**"
      ],
      "metadata": {
        "id": "uuN2WIB7E0jW"
      }
    },
    {
      "cell_type": "code",
      "source": [
        "!pip install numdifftools"
      ],
      "metadata": {
        "colab": {
          "base_uri": "https://localhost:8080/"
        },
        "id": "Kh6_Zo6NHeHj",
        "outputId": "c9793448-8a6f-481c-f5da-314b7bfa2735"
      },
      "execution_count": 5,
      "outputs": [
        {
          "output_type": "stream",
          "name": "stdout",
          "text": [
            "Collecting numdifftools\n",
            "  Downloading numdifftools-0.9.41-py2.py3-none-any.whl.metadata (39 kB)\n",
            "Requirement already satisfied: numpy>=1.9 in /usr/local/lib/python3.10/dist-packages (from numdifftools) (1.26.4)\n",
            "Requirement already satisfied: scipy>=0.8 in /usr/local/lib/python3.10/dist-packages (from numdifftools) (1.13.1)\n",
            "Downloading numdifftools-0.9.41-py2.py3-none-any.whl (100 kB)\n",
            "\u001b[?25l   \u001b[90m━━━━━━━━━━━━━━━━━━━━━━━━━━━━━━━━━━━━━━━━\u001b[0m \u001b[32m0.0/100.2 kB\u001b[0m \u001b[31m?\u001b[0m eta \u001b[36m-:--:--\u001b[0m\r\u001b[2K   \u001b[90m━━━━━━━━━━━━━━━━━━━━━━━━━━━━━━━━━━━━━━━━\u001b[0m \u001b[32m100.2/100.2 kB\u001b[0m \u001b[31m7.4 MB/s\u001b[0m eta \u001b[36m0:00:00\u001b[0m\n",
            "\u001b[?25hInstalling collected packages: numdifftools\n",
            "Successfully installed numdifftools-0.9.41\n"
          ]
        }
      ]
    },
    {
      "cell_type": "code",
      "execution_count": 7,
      "metadata": {
        "colab": {
          "base_uri": "https://localhost:8080/"
        },
        "id": "_fj5H1ZkEOVh",
        "outputId": "c4595506-51fd-4251-c879-2937c76f92ad"
      },
      "outputs": [
        {
          "output_type": "stream",
          "name": "stdout",
          "text": [
            "Found segment: [-3, -2]\n",
            "Found segment: [0, 1]\n"
          ]
        }
      ],
      "source": [
        "import numpy as np\n",
        "import numdifftools as nd\n",
        "\n",
        "f = lambda x: x**4 + 2*x**3 + 2*x**2 +6*x - 3 # ваша функція f(x)\n",
        "def find_segments(): #відокремлюємо корені\n",
        "  search_range = np.arange(-10, 10, 1)\n",
        "\n",
        "  a = None\n",
        "  previous_x = None\n",
        "  current_x = None\n",
        "  segments = []\n",
        "\n",
        "  for x in search_range:\n",
        "    x = round(x, 4)\n",
        "    current_x = f(x)\n",
        "    if previous_x != None and previous_x * current_x < 0:\n",
        "      segments.append((a, x))\n",
        "    a = x\n",
        "    previous_x = current_x\n",
        "  return segments\n",
        "\n",
        "segments = find_segments()\n",
        "for a, b in segments:\n",
        "  print(f'Found segment: [{a}, {b}]')"
      ]
    },
    {
      "cell_type": "code",
      "source": [
        "def nuton(a, b, eps, f):\n",
        " df2 = nd.Derivative(f, n=2)(b) # Отримуємо значення похідної другого порядку в точці b\n",
        " if f(b) * df2 > 0:\n",
        "  xi = b\n",
        " else:\n",
        "  xi = a\n",
        " df = nd.Derivative(f, n=1)(xi) # Отримуємо значення похідної першого порядку в точці xi\n",
        " xi_1 = xi - f(xi) / df\n",
        " while abs(xi_1 - xi) > eps: # перевіряємо точність\n",
        "  xi = xi_1\n",
        "  xi_1 = xi - f(xi) / df\n",
        "  print('Метод Ньютона, x = ', xi_1.round(4))\n",
        "\n",
        "def komb(a, b, eps, f):\n",
        " if nd.Derivative(f, n=1)(a) * nd.Derivative(f, n=2)(a) > 0:\n",
        "  a0 = a\n",
        "  b0 = b\n",
        " else:\n",
        "  a0 = b\n",
        "  b0 = a\n",
        " ai = a0\n",
        " bi = b0\n",
        " while abs(ai - bi) > eps:\n",
        "  ai_1 = ai - f(ai) * (bi - ai) / (f(bi) - f(ai))\n",
        "  bi_1 = bi - f(bi) / nd.Derivative(f, n=1)(bi)\n",
        "  ai = ai_1\n",
        "  bi = bi_1\n",
        " x = (ai_1 + bi_1) / 2\n",
        " print('Комбінований метод, x = ', x.round(4))\n",
        "\n",
        "if __name__ == \"__main__\":\n",
        " a1, b1 = -3, -2\n",
        " a2, b2 = 0, 1\n",
        " eps = 0.001\n",
        "\n",
        " print(\"Розв'язки на відрізку [-3, -2]\")\n",
        " nuton(a1, b1, eps, f)\n",
        " komb(a1, b1, eps, f)\n",
        " print(\"\\n Розв'язки на відрізку [0, 1]\")\n",
        " nuton(a2, b2, eps, f)\n",
        " komb(a2, b2, eps, f)"
      ],
      "metadata": {
        "colab": {
          "base_uri": "https://localhost:8080/"
        },
        "id": "5eJToDzHH2co",
        "outputId": "acde9db4-72e8-4186-df11-c8a61398e20f"
      },
      "execution_count": 8,
      "outputs": [
        {
          "output_type": "stream",
          "name": "stdout",
          "text": [
            "Розв'язки на відрізку [-3, -2]\n",
            "Метод Ньютона, x =  -2.5089\n",
            "Метод Ньютона, x =  -2.466\n",
            "Метод Ньютона, x =  -2.4434\n",
            "Метод Ньютона, x =  -2.431\n",
            "Метод Ньютона, x =  -2.4239\n",
            "Метод Ньютона, x =  -2.4198\n",
            "Метод Ньютона, x =  -2.4175\n",
            "Метод Ньютона, x =  -2.4161\n",
            "Метод Ньютона, x =  -2.4153\n",
            "Комбінований метод, x =  -2.4142\n",
            "\n",
            " Розв'язки на відрізку [0, 1]\n",
            "Метод Ньютона, x =  0.5059\n",
            "Метод Ньютона, x =  0.4623\n",
            "Метод Ньютона, x =  0.4401\n",
            "Метод Ньютона, x =  0.4283\n",
            "Метод Ньютона, x =  0.4219\n",
            "Метод Ньютона, x =  0.4184\n",
            "Метод Ньютона, x =  0.4165\n",
            "Метод Ньютона, x =  0.4155\n",
            "Метод Ньютона, x =  0.4149\n",
            "Комбінований метод, x =  0.4142\n"
          ]
        }
      ]
    }
  ]
}