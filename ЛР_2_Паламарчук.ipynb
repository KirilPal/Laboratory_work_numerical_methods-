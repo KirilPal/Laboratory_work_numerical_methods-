{
  "nbformat": 4,
  "nbformat_minor": 0,
  "metadata": {
    "colab": {
      "provenance": [],
      "authorship_tag": "ABX9TyMmE+hB66Bc0sdNaruO7NP2",
      "include_colab_link": true
    },
    "kernelspec": {
      "name": "python3",
      "display_name": "Python 3"
    },
    "language_info": {
      "name": "python"
    }
  },
  "cells": [
    {
      "cell_type": "markdown",
      "metadata": {
        "id": "view-in-github",
        "colab_type": "text"
      },
      "source": [
        "<a href=\"https://colab.research.google.com/github/KirilPal/Laboratory_work_numerical_methods-/blob/main/%D0%9B%D0%A0_2_%D0%9F%D0%B0%D0%BB%D0%B0%D0%BC%D0%B0%D1%80%D1%87%D1%83%D0%BA.ipynb\" target=\"_parent\"><img src=\"https://colab.research.google.com/assets/colab-badge.svg\" alt=\"Open In Colab\"/></a>"
      ]
    },
    {
      "cell_type": "markdown",
      "source": [
        "#Паламарчук Кіріл\n",
        "Лабораторна робота №2\n",
        "Варіант 22\n",
        "Група 2-8"
      ],
      "metadata": {
        "id": "eR4XIEy-vWPW"
      }
    },
    {
      "cell_type": "markdown",
      "source": [
        "## **Методом половинного ділення**"
      ],
      "metadata": {
        "id": "XQM1JDMvmeMt"
      }
    },
    {
      "cell_type": "code",
      "execution_count": null,
      "metadata": {
        "colab": {
          "base_uri": "https://localhost:8080/"
        },
        "id": "uzZe3B2wfqJP",
        "outputId": "30f19457-c579-4d2d-f5cb-50d283f93e61"
      },
      "outputs": [
        {
          "output_type": "stream",
          "name": "stdout",
          "text": [
            "Результати обчислень\n",
            "\n",
            "           a      F(a)         c      F(c)         b      F(b)\n",
            "0  -2.000000  1.135204 -0.500000 -0.315552  1.000000  1.363946\n",
            "1  -2.000000  1.135204 -1.250000 -0.392747 -0.500000 -0.315552\n",
            "2  -2.000000  1.135204 -1.625000  0.109040 -1.250000 -0.392747\n",
            "3  -1.625000  0.109040 -1.437500 -0.214564 -1.250000 -0.392747\n",
            "4  -1.625000  0.109040 -1.531250 -0.071642 -1.437500 -0.214564\n",
            "5  -1.625000  0.109040 -1.578125  0.014015 -1.531250 -0.071642\n",
            "6  -1.578125  0.014015 -1.554688 -0.029995 -1.531250 -0.071642\n",
            "7  -1.578125  0.014015 -1.566406 -0.008285 -1.554688 -0.029995\n",
            "8  -1.578125  0.014015 -1.572266  0.002791 -1.566406 -0.008285\n",
            "9  -1.572266  0.002791 -1.569336 -0.002765 -1.566406 -0.008285\n",
            "10 -1.572266  0.002791 -1.570801  0.000008 -1.569336 -0.002765\n",
            "\n",
            "В точці с =  -1.57080078125 , f(c) =  8.448383306135629e-06\n"
          ]
        }
      ],
      "source": [
        "import numpy as np\n",
        "import pandas as pd\n",
        "\n",
        "def f (x):\n",
        "    y = np.cos(x)*np.sin(x)*(x**2+x+1)\n",
        "    return y\n",
        "\n",
        "a = -2\n",
        "b = 1\n",
        "\n",
        "h = 0.0001\n",
        "\n",
        "c = (a+b)/2\n",
        "\n",
        "data_A = [a]\n",
        "data_B = [b]\n",
        "data_C = [c]\n",
        "data_F_A = [f(a)]\n",
        "data_F_B = [f(b)]\n",
        "data_F_C = [f(c)]\n",
        "\n",
        "while abs(f(c)) > h:\n",
        "    if np.sign(f(c)) == np.sign(f(a)):\n",
        "        a = c\n",
        "    else:\n",
        "        b = c\n",
        "    c = (a+b)/2\n",
        "    data_A.append(a)\n",
        "    data_B.append(b)\n",
        "    data_C.append(c)\n",
        "    data_F_A.append(f(a))\n",
        "    data_F_B.append(f(b))\n",
        "    data_F_C.append(f(c))\n",
        "\n",
        "print('Результати обчислень')\n",
        "print()\n",
        "data = pd.DataFrame({'a': data_A,\n",
        "                     'F(a)': data_F_A,\n",
        "                     'c': data_C,\n",
        "                     'F(c)': data_F_C,\n",
        "                     'b': data_B,\n",
        "                     'F(b)': data_F_B})\n",
        "print(data)\n",
        "\n",
        "print()\n",
        "print('В точці с = ', c, ', f(c) = ', f(c))"
      ]
    },
    {
      "cell_type": "markdown",
      "source": [
        "## **Методом хорд**"
      ],
      "metadata": {
        "id": "bQXX4K9omndK"
      }
    },
    {
      "cell_type": "code",
      "source": [
        "import numpy as np\n",
        "import pandas as pd\n",
        "\n",
        "def f(x):\n",
        "    y = np.cos(x)*np.sin(x)*(x**2+x+1)\n",
        "    return y\n",
        "\n",
        "a = 0,25\n",
        "b = 1\n",
        "\n",
        "h = 0.0001\n",
        "\n",
        "c = (f(a)*b-a*f(b))/(f(a)-f(b))\n",
        "\n",
        "\n",
        "data_A = [a]\n",
        "data_B = [b]\n",
        "data_C = [c]\n",
        "data_F_A = [f(a)]\n",
        "data_F_B = [f(b)]\n",
        "data_F_C = [f(c)]\n",
        "\n",
        "while abs(f(c)) > h:\n",
        "    if np.sign(f(c)) == np.sign(f(a)):\n",
        "        a = c\n",
        "    else:\n",
        "        b = c\n",
        "    c = (f(a)*b-a*f(b))/(f(a)-f(b))\n",
        "    data_A.append(a)\n",
        "    data_B.append(b)\n",
        "    data_C.append(c)\n",
        "    data_F_A.append(f(a))\n",
        "    data_F_B.append(f(b))\n",
        "    data_F_C.append(f(c))\n",
        "\n",
        "print('Результати обчислень')\n",
        "print()\n",
        "data = pd.DataFrame({'a': data_A, 'F(a)': data_F_A,\n",
        "                     'c': data_C, 'F(c)': data_F_C,\n",
        "                     'b': data_B, 'F(b)': data_F_B})\n",
        "print(data)\n",
        "print()\n",
        "print('В точці с = ', c, ', f(c) = ', f(c))"
      ],
      "metadata": {
        "colab": {
          "base_uri": "https://localhost:8080/"
        },
        "id": "N34cAEMSmsyE",
        "outputId": "f3c06c41-4b64-41be-947e-525b868f9ae2"
      },
      "execution_count": null,
      "outputs": [
        {
          "output_type": "stream",
          "name": "stdout",
          "text": [
            "Результати обчислень\n",
            "\n",
            "          a      F(a)          c       F(c)          b       F(b)\n",
            "0 -2.000000  1.135204 -16.888413 -94.773532   1.000000   1.363946\n",
            "1 -2.000000  1.135204  -2.176224   1.665804 -16.888413 -94.773532\n",
            "2 -2.176224  1.665804  -2.430348   2.213554 -16.888413 -94.773532\n",
            "3 -2.430348  2.213554  -2.760327   2.023590 -16.888413 -94.773532\n",
            "4 -2.760327  2.023590  -3.055682   0.622488 -16.888413 -94.773532\n",
            "5 -3.055682  0.622488  -3.145944  -0.033730 -16.888413 -94.773532\n",
            "6 -3.055682  0.622488  -3.141305   0.002224  -3.145944  -0.033730\n",
            "7 -3.141305  0.002224  -3.141592   0.000007  -3.145944  -0.033730\n",
            "\n",
            "В точці с =  -3.14159180240115 , f(c) =  6.577992006567948e-06\n"
          ]
        }
      ]
    }
  ]
}