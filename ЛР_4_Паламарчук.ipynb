{
  "nbformat": 4,
  "nbformat_minor": 0,
  "metadata": {
    "colab": {
      "provenance": [],
      "authorship_tag": "ABX9TyMnSZ7oKawYQeNotVTxZzQ3",
      "include_colab_link": true
    },
    "kernelspec": {
      "name": "python3",
      "display_name": "Python 3"
    },
    "language_info": {
      "name": "python"
    }
  },
  "cells": [
    {
      "cell_type": "markdown",
      "metadata": {
        "id": "view-in-github",
        "colab_type": "text"
      },
      "source": [
        "<a href=\"https://colab.research.google.com/github/KirilPal/Laboratory_work_numerical_methods-/blob/main/%D0%9B%D0%A0_4_%D0%9F%D0%B0%D0%BB%D0%B0%D0%BC%D0%B0%D1%80%D1%87%D1%83%D0%BA.ipynb\" target=\"_parent\"><img src=\"https://colab.research.google.com/assets/colab-badge.svg\" alt=\"Open In Colab\"/></a>"
      ]
    },
    {
      "cell_type": "markdown",
      "source": [
        "#Паламарчук Кіріл\n",
        "Лабораторна робота №4\n",
        "Варіант 22\n",
        "Група 2-8"
      ],
      "metadata": {
        "id": "eR4XIEy-vWPW"
      }
    },
    {
      "cell_type": "markdown",
      "source": [
        "## 1. Знайти матрицю С = 𝐴𝐵 − 𝐵𝐴:\n",
        "## 1) 𝐴 = [1; 2] [4; −1], 𝐵 = [2; −3] [−4; 1];"
      ],
      "metadata": {
        "id": "Ul54eDsxK2cT"
      }
    },
    {
      "cell_type": "code",
      "execution_count": 2,
      "metadata": {
        "colab": {
          "base_uri": "https://localhost:8080/"
        },
        "id": "Q7wQmLEuJ_8f",
        "outputId": "fa186130-7806-4430-c379-643110ea19e6"
      },
      "outputs": [
        {
          "output_type": "stream",
          "name": "stdout",
          "text": [
            "𝐴𝐵 − 𝐵𝐴:\n",
            "[[ 4 -8]\n",
            " [12 -4]]\n"
          ]
        }
      ],
      "source": [
        "import numpy as np\n",
        "\n",
        "a = np.matrix([[1, 2], [4, -1]])\n",
        "b = np.matrix([[2, -3], [-4, 1]])\n",
        "\n",
        "c = np.dot(a, b) - np.dot(b, a)\n",
        "print(\"𝐴𝐵 − 𝐵𝐴:\")\n",
        "print(c)"
      ]
    },
    {
      "cell_type": "markdown",
      "source": [
        "## Піднести матриці до степеня:\n",
        "## 1) [−1; 2] [0; 1]^2"
      ],
      "metadata": {
        "id": "ix1Ll-MgNkM9"
      }
    },
    {
      "cell_type": "code",
      "source": [
        "a = np.matrix([[-1, 2], [0, 1]])\n",
        "\n",
        "c = np.dot(a, a)\n",
        "print(\"A^2:\")\n",
        "print(c)"
      ],
      "metadata": {
        "colab": {
          "base_uri": "https://localhost:8080/"
        },
        "id": "aCzBPouNOsWk",
        "outputId": "44f6cccd-9891-4b90-e01d-5ce292c8d59d"
      },
      "execution_count": 9,
      "outputs": [
        {
          "output_type": "stream",
          "name": "stdout",
          "text": [
            "A^2:\n",
            "[[1 0]\n",
            " [0 1]]\n"
          ]
        }
      ]
    },
    {
      "cell_type": "markdown",
      "source": [
        "## Знайти добуток матриць:\n",
        "## 1) [3; 5] [6; −1] ⋅ [2; 1] [−3; 2];"
      ],
      "metadata": {
        "id": "oC2iRKAAP2E0"
      }
    },
    {
      "cell_type": "code",
      "source": [
        "a = np.matrix([[3, 5], [6, -1]])\n",
        "b = np.matrix([[2, 1], [-3, 2]])\n",
        "\n",
        "c = np.dot(a, a)\n",
        "print(\"A * B:\")\n",
        "print(c)"
      ],
      "metadata": {
        "colab": {
          "base_uri": "https://localhost:8080/"
        },
        "id": "v1dvkJiRQEq8",
        "outputId": "d3d7f5cc-b405-48c5-d182-79655f7a0d1d"
      },
      "execution_count": 10,
      "outputs": [
        {
          "output_type": "stream",
          "name": "stdout",
          "text": [
            "A * B:\n",
            "[[39 10]\n",
            " [12 31]]\n"
          ]
        }
      ]
    },
    {
      "cell_type": "markdown",
      "source": [
        "## 4. Обчислити визначники:\n",
        "## 1) [2; 3; 4] [1; 0; 6] [7; 8; 9];"
      ],
      "metadata": {
        "id": "V15jvR6YQRNb"
      }
    },
    {
      "cell_type": "code",
      "source": [
        "a = np.array([[2, 3, 4], [1, 0, 6], [7, 8, 9]])\n",
        "a_det = np.linalg.det(a)\n",
        "\n",
        "print(\"Визначник матриці:\")\n",
        "print(a_det.round(2))"
      ],
      "metadata": {
        "colab": {
          "base_uri": "https://localhost:8080/"
        },
        "id": "h8jXK9skQscB",
        "outputId": "23d9464a-31ef-4bff-9694-97db0069fde6"
      },
      "execution_count": 11,
      "outputs": [
        {
          "output_type": "stream",
          "name": "stdout",
          "text": [
            "Визначник матриці:\n",
            "35.0\n"
          ]
        }
      ]
    },
    {
      "cell_type": "markdown",
      "source": [
        "## 5. Обчислити визначники.\n",
        "## 1) [1; 2; 3; 4] [-2; 1; -4; 3] [3; -4; -1; 2] [4; 3; -2; -1];"
      ],
      "metadata": {
        "id": "YMq1Qg8EQr4S"
      }
    },
    {
      "cell_type": "code",
      "source": [
        "a = np.array([[1, 2, 3, 4], [-2, 1, -4, 3], [3, -4, -1, 2], [4, 3, -2, -1]])\n",
        "a_det = np.linalg.det(a)\n",
        "\n",
        "print(\"Визначник матриці:\")\n",
        "print(a_det.round(2))"
      ],
      "metadata": {
        "colab": {
          "base_uri": "https://localhost:8080/"
        },
        "id": "7zw2sqBsRMeA",
        "outputId": "50ca620f-3664-4690-f32b-85445c2eb0ed"
      },
      "execution_count": 12,
      "outputs": [
        {
          "output_type": "stream",
          "name": "stdout",
          "text": [
            "Визначник матриці:\n",
            "900.0\n"
          ]
        }
      ]
    },
    {
      "cell_type": "markdown",
      "source": [
        "## 6. Знайти обернену матрицю до матриць:\n",
        "## 1) [1; 2; -3] [0; 1; 2] [0; 0; 1];"
      ],
      "metadata": {
        "id": "sQ9oGgMLRYZt"
      }
    },
    {
      "cell_type": "code",
      "source": [
        "a = np.matrix([[1, 2, -3], [0, 1, 2], [0, 0, 1]])\n",
        "a_inv = np.linalg.inv(a)\n",
        "\n",
        "print(\"Обернена матриця:\")\n",
        "print(a_inv)"
      ],
      "metadata": {
        "colab": {
          "base_uri": "https://localhost:8080/"
        },
        "id": "3AUteabMRkHj",
        "outputId": "3c7e6b33-67fe-40dc-98b5-cf76c2117c3b"
      },
      "execution_count": 13,
      "outputs": [
        {
          "output_type": "stream",
          "name": "stdout",
          "text": [
            "Обернена матриця:\n",
            "[[ 1. -2.  7.]\n",
            " [ 0.  1. -2.]\n",
            " [ 0.  0.  1.]]\n"
          ]
        }
      ]
    },
    {
      "cell_type": "markdown",
      "source": [
        "## 7. Визначити ранг матриці:\n",
        "## 1) [1; 2; 3; 4] [3; -1; 2; 5] [1; 2; 3; 4] [1; 3; 4; 5];"
      ],
      "metadata": {
        "id": "CxgQ1xGrRz00"
      }
    },
    {
      "cell_type": "code",
      "source": [
        "a = np.array([[1, 2, 3, 4], [3, 1, 2, 5], [1, 2, 3, 4], [1, 3, 4, 5]])\n",
        "rank = np.linalg.matrix_rank(a)\n",
        "\n",
        "print(\"Ранг матриці:\")\n",
        "print(rank)"
      ],
      "metadata": {
        "colab": {
          "base_uri": "https://localhost:8080/"
        },
        "id": "x_iuCSZASQsD",
        "outputId": "d1f8afb4-5f10-4c4d-d3a1-6f5192dfdad5"
      },
      "execution_count": 14,
      "outputs": [
        {
          "output_type": "stream",
          "name": "stdout",
          "text": [
            "Ранг матриці:\n",
            "3\n"
          ]
        }
      ]
    },
    {
      "cell_type": "markdown",
      "source": [
        "## 8. Розв’язати систему лінійних рівнянь методом Крамера, матричним\n",
        "## методом (тобто обчислити обернену матрицю) і м. Гауса. Потім\n",
        "## зробити перевірку за допомогою solve() пакету linalg :\n",
        "## 22) x - 4y = -5\n",
        "##     2x - 3y + z = -7\n",
        "##     x + 4y + 2z = -1"
      ],
      "metadata": {
        "id": "k2AvmRybSe-w"
      }
    },
    {
      "cell_type": "code",
      "source": [
        "def matrix_method(coefficients, constants):\n",
        "    inverse_matrix = np.linalg.inv(coefficients)\n",
        "    return np.dot(inverse_matrix, constants)\n",
        "\n",
        "# Метод Крамера\n",
        "def cramer_method(coefficients, constants):\n",
        "    det_coefficients = np.linalg.det(coefficients)\n",
        "    solutions = []\n",
        "    for i in range(len(coefficients)):\n",
        "        modified_coefficients = np.copy(coefficients)\n",
        "        modified_coefficients[:, i] = constants\n",
        "        solutions.append(round(np.linalg.det(modified_coefficients) / det_coefficients, 1))  # Округлюємо до десятих\n",
        "    return solutions\n",
        "\n",
        "#Метод Гауса\n",
        "\n",
        "def gauss_method(a, b):\n",
        "    n = len(b)\n",
        "\n",
        "    for k in range(0, n-1):\n",
        "        for i in range(k+1, n):\n",
        "            if a[i, k] != 0.0:\n",
        "                lam = a[i, k] / a[k, k]\n",
        "                a[i, k+1:n] = a[i, k+1:n] - lam * a[k, k+1:n]\n",
        "                b[i] = b[i] - lam * b[k]\n",
        "\n",
        "    x = np.zeros(n)\n",
        "    for k in range(n-1, -1, -1):\n",
        "        x[k] = (b[k] - np.dot(a[k, k+1:n], x[k+1:n])) / a[k, k]\n",
        "\n",
        "    return x\n",
        "\n",
        "def main():\n",
        "    a = np.array([[1.0, -4.0, 0.0],\n",
        "                  [2.0, -3.0, -1.0],\n",
        "                  [1.0, 4.0, 2.0]])\n",
        "\n",
        "    b = np.array([-5.0, -7.0, -1.0])\n",
        "\n",
        "    # Матричний метод\n",
        "    x_matrix = matrix_method(a, b)\n",
        "    print(\"Матричний метод:\", x_matrix)\n",
        "\n",
        "    # Метод Крамера\n",
        "    x_cramer = cramer_method(a, b)\n",
        "    print(\"Метод Крамера:\", x_cramer)\n",
        "\n",
        "    # Метод Гауса\n",
        "    x_gauss = gauss_method(a, b)\n",
        "    print(\"Метод Гауса:\", x_gauss)\n",
        "\n",
        "\n",
        "if __name__ == \"__main__\":\n",
        "    main()"
      ],
      "metadata": {
        "colab": {
          "base_uri": "https://localhost:8080/"
        },
        "id": "Qc4Ri2d3Snuz",
        "outputId": "9f226efb-7a37-4a8c-bb05-7fa5acc3641c"
      },
      "execution_count": 15,
      "outputs": [
        {
          "output_type": "stream",
          "name": "stdout",
          "text": [
            "Матричний метод: [-2.77777778  0.55555556 -0.22222222]\n",
            "Метод Крамера: [-2.8, 0.6, -0.2]\n",
            "Метод Гауса: [-2.77777778  0.55555556 -0.22222222]\n"
          ]
        }
      ]
    },
    {
      "cell_type": "code",
      "source": [
        "import numpy as np\n",
        "from numpy.linalg import solve\n",
        "\n",
        "a = np.array([[1.0, -4.0, 0.0],\n",
        "                  [2.0, -3.0, -1.0],\n",
        "                  [1.0, 4.0, 2.0]])\n",
        "\n",
        "b = np.array([-5.0, -7.0, -1.0])\n",
        "\n",
        "x = solve(a,b)\n",
        "\n",
        "for i in range(len(x)):\n",
        "    print(x[i])"
      ],
      "metadata": {
        "colab": {
          "base_uri": "https://localhost:8080/"
        },
        "id": "Y-mh__VkT8hu",
        "outputId": "95ac6c6a-5252-4425-a6f5-c47a91fd28bf"
      },
      "execution_count": 16,
      "outputs": [
        {
          "output_type": "stream",
          "name": "stdout",
          "text": [
            "-2.7777777777777777\n",
            "0.5555555555555555\n",
            "-0.22222222222222215\n"
          ]
        }
      ]
    },
    {
      "cell_type": "markdown",
      "source": [
        "## 1) Створіть прямокутну матрицю A, яка має N рядків і M стовпців з\n",
        "## випадковими елементами. Знайдіть найменший стовпчастий елемент матриці\n",
        "## A, для якого сума абсолютних значень елементів максимальна."
      ],
      "metadata": {
        "id": "V2EGkQZ8UUHX"
      }
    },
    {
      "cell_type": "code",
      "source": [
        "import numpy as np\n",
        "\n",
        "N = 4\n",
        "M = 4\n",
        "\n",
        "A = np.random.randint(-100, 100, size=(N, M))\n",
        "print(\"Матриця A:\")\n",
        "print(A)\n",
        "\n",
        "col_sums = np.sum(np.abs(A), axis=0)\n",
        "\n",
        "max_sum_col_index = np.argmax(col_sums)\n",
        "\n",
        "min_element_in_max_sum_col = np.min(A[:, max_sum_col_index])\n",
        "\n",
        "print(f\"Найменший елемент у стовпці {max_sum_col_index + 1}, для якого сума абсолютних значень максимальна: {min_element_in_max_sum_col}\")\n"
      ],
      "metadata": {
        "colab": {
          "base_uri": "https://localhost:8080/"
        },
        "id": "UcxQ-TR6UXVQ",
        "outputId": "99bf54d5-3074-4fcf-e944-6b4d80c7ff16"
      },
      "execution_count": 18,
      "outputs": [
        {
          "output_type": "stream",
          "name": "stdout",
          "text": [
            "Матриця A:\n",
            "[[ 50  66  95 -49]\n",
            " [-71 -37  61  65]\n",
            " [ 81  38  80 -20]\n",
            " [-60  85  67 -42]]\n",
            "Найменший елемент у стовпці 3, для якого сума абсолютних значень максимальна: 61\n"
          ]
        }
      ]
    }
  ]
}