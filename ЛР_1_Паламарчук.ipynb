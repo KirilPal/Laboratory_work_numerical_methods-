{
  "nbformat": 4,
  "nbformat_minor": 0,
  "metadata": {
    "colab": {
      "provenance": [],
      "authorship_tag": "ABX9TyN2RJMhXS9uTt+e8aNnozWR",
      "include_colab_link": true
    },
    "kernelspec": {
      "name": "python3",
      "display_name": "Python 3"
    },
    "language_info": {
      "name": "python"
    }
  },
  "cells": [
    {
      "cell_type": "markdown",
      "metadata": {
        "id": "view-in-github",
        "colab_type": "text"
      },
      "source": [
        "<a href=\"https://colab.research.google.com/github/KirilPal/Laboratory_work_numerical_methods-/blob/main/%D0%9B%D0%A0_1_%D0%9F%D0%B0%D0%BB%D0%B0%D0%BC%D0%B0%D1%80%D1%87%D1%83%D0%BA.ipynb\" target=\"_parent\"><img src=\"https://colab.research.google.com/assets/colab-badge.svg\" alt=\"Open In Colab\"/></a>"
      ]
    },
    {
      "cell_type": "markdown",
      "source": [
        "#Паламарчук Кіріл\n",
        "Лабораторна робота №1\n",
        "Варіант 22\n",
        "Група 2-8"
      ],
      "metadata": {
        "id": "eR4XIEy-vWPW"
      }
    },
    {
      "cell_type": "code",
      "source": [
        "!pip install numpy"
      ],
      "metadata": {
        "colab": {
          "base_uri": "https://localhost:8080/"
        },
        "id": "z6CNcR9LvrQ9",
        "outputId": "54e492de-6af4-4c9a-cadf-8929662915ef"
      },
      "execution_count": null,
      "outputs": [
        {
          "output_type": "stream",
          "name": "stdout",
          "text": [
            "Requirement already satisfied: numpy in /usr/local/lib/python3.10/dist-packages (1.26.4)\n"
          ]
        }
      ]
    },
    {
      "cell_type": "markdown",
      "source": [
        "#**Завдання** 1."
      ],
      "metadata": {
        "id": "a4-dXLVz3zdQ"
      }
    },
    {
      "cell_type": "code",
      "source": [
        "import numpy as np\n",
        "\n",
        "def calculate(x1, x2):\n",
        "    return (x1 - x2) / (x2 + 1)\n",
        "\n",
        "def main():\n",
        "    x1 = np.sqrt(17)\n",
        "    x2 = 4.12\n",
        "    x1_1 = 19 / 9\n",
        "    x2_2 = 2.11\n",
        "\n",
        "    error_x1 = calculate(x1, x1_1)\n",
        "    error_x2 = calculate(x2, x2_2)\n",
        "\n",
        "    if error_x1 < error_x2:\n",
        "        print(\"Перша рівність точніше з відносною похибкою:\", round(error_x1, 5))\n",
        "    elif error_x2 < error_x1:\n",
        "        print(\"Друга рівність точніше з відносною похибкою:\", round(error_x2, 5))\n",
        "    else:\n",
        "        print(\"Обидві рівності мають однакову точність з відносною похибкою:\", round(error_x1, 5))\n",
        "\n",
        "if __name__ == \"__main__\":\n",
        "    main()"
      ],
      "metadata": {
        "colab": {
          "base_uri": "https://localhost:8080/",
          "height": 888
        },
        "id": "NqQlxjvS2YI-",
        "outputId": "1cf443b6-9e1c-4c1c-d469-571989415b49"
      },
      "execution_count": null,
      "outputs": [
        {
          "output_type": "stream",
          "name": "stdout",
          "text": [
            "Результати обчислень\n",
            "\n",
            "    range_min  data_function_min  range_max  data_function_max  data_middle  \\\n",
            "0   -2.000000          -7.000000   1.000000           8.000000    -0.500000   \n",
            "1   -0.500000          -5.687500   1.000000           8.000000     0.250000   \n",
            "2    0.250000          -1.339844   1.000000           8.000000     0.625000   \n",
            "3    0.250000          -1.339844   0.625000           2.172119     0.437500   \n",
            "4    0.250000          -1.339844   0.437500           0.211929     0.343750   \n",
            "5    0.343750          -0.605971   0.437500           0.211929     0.390625   \n",
            "6    0.390625          -0.208582   0.437500           0.211929     0.414062   \n",
            "7    0.414062          -0.001355   0.437500           0.211929     0.425781   \n",
            "8    0.414062          -0.001355   0.425781           0.104512     0.419922   \n",
            "9    0.414062          -0.001355   0.419922           0.051387     0.416992   \n",
            "10   0.414062          -0.001355   0.416992           0.024968     0.415527   \n",
            "11   0.414062          -0.001355   0.415527           0.011795     0.414795   \n",
            "12   0.414062          -0.001355   0.414795           0.005217     0.414429   \n",
            "13   0.414062          -0.001355   0.414429           0.001930     0.414246   \n",
            "\n",
            "    data_function_middle  \n",
            "0              -5.687500  \n",
            "1              -1.339844  \n",
            "2               2.172119  \n",
            "3               0.211929  \n",
            "4              -0.605971  \n",
            "5              -0.208582  \n",
            "6              -0.001355  \n",
            "7               0.104512  \n",
            "8               0.051387  \n",
            "9               0.024968  \n",
            "10              0.011795  \n",
            "11              0.005217  \n",
            "12              0.001930  \n",
            "13              0.000287  \n",
            "\n"
          ]
        },
        {
          "output_type": "error",
          "ename": "TypeError",
          "evalue": "unsupported operand type(s) for ** or pow(): 'list' and 'int'",
          "traceback": [
            "\u001b[0;31m---------------------------------------------------------------------------\u001b[0m",
            "\u001b[0;31mTypeError\u001b[0m                                 Traceback (most recent call last)",
            "\u001b[0;32m<ipython-input-1-3a315699fd82>\u001b[0m in \u001b[0;36m<cell line: 45>\u001b[0;34m()\u001b[0m\n\u001b[1;32m     43\u001b[0m \u001b[0mprint\u001b[0m\u001b[0;34m(\u001b[0m\u001b[0mdata\u001b[0m\u001b[0;34m)\u001b[0m\u001b[0;34m\u001b[0m\u001b[0;34m\u001b[0m\u001b[0m\n\u001b[1;32m     44\u001b[0m \u001b[0mprint\u001b[0m\u001b[0;34m(\u001b[0m\u001b[0;34m)\u001b[0m\u001b[0;34m\u001b[0m\u001b[0;34m\u001b[0m\u001b[0m\n\u001b[0;32m---> 45\u001b[0;31m \u001b[0mprint\u001b[0m\u001b[0;34m(\u001b[0m\u001b[0;34m'В точці middle = '\u001b[0m\u001b[0;34m,\u001b[0m \u001b[0mdata_middle\u001b[0m\u001b[0;34m,\u001b[0m \u001b[0;34m', function(middle) = '\u001b[0m\u001b[0;34m,\u001b[0m \u001b[0mfunction\u001b[0m\u001b[0;34m(\u001b[0m\u001b[0mdata_middle\u001b[0m\u001b[0;34m)\u001b[0m\u001b[0;34m)\u001b[0m\u001b[0;34m\u001b[0m\u001b[0;34m\u001b[0m\u001b[0m\n\u001b[0m",
            "\u001b[0;32m<ipython-input-1-3a315699fd82>\u001b[0m in \u001b[0;36mfunction\u001b[0;34m(x)\u001b[0m\n\u001b[1;32m      3\u001b[0m \u001b[0;34m\u001b[0m\u001b[0m\n\u001b[1;32m      4\u001b[0m \u001b[0;32mdef\u001b[0m \u001b[0mfunction\u001b[0m\u001b[0;34m(\u001b[0m\u001b[0mx\u001b[0m\u001b[0;34m)\u001b[0m\u001b[0;34m:\u001b[0m\u001b[0;34m\u001b[0m\u001b[0;34m\u001b[0m\u001b[0m\n\u001b[0;32m----> 5\u001b[0;31m     \u001b[0;32mreturn\u001b[0m \u001b[0mx\u001b[0m\u001b[0;34m**\u001b[0m\u001b[0;36m4\u001b[0m \u001b[0;34m+\u001b[0m \u001b[0;36m2\u001b[0m\u001b[0;34m*\u001b[0m\u001b[0mx\u001b[0m\u001b[0;34m**\u001b[0m\u001b[0;36m3\u001b[0m \u001b[0;34m+\u001b[0m \u001b[0;36m2\u001b[0m\u001b[0;34m*\u001b[0m\u001b[0mx\u001b[0m\u001b[0;34m**\u001b[0m\u001b[0;36m2\u001b[0m \u001b[0;34m+\u001b[0m \u001b[0;36m6\u001b[0m\u001b[0;34m*\u001b[0m\u001b[0mx\u001b[0m \u001b[0;34m-\u001b[0m \u001b[0;36m3\u001b[0m\u001b[0;34m\u001b[0m\u001b[0;34m\u001b[0m\u001b[0m\n\u001b[0m\u001b[1;32m      6\u001b[0m \u001b[0;34m\u001b[0m\u001b[0m\n\u001b[1;32m      7\u001b[0m \u001b[0mrange_min\u001b[0m \u001b[0;34m=\u001b[0m \u001b[0;34m-\u001b[0m\u001b[0;36m2\u001b[0m\u001b[0;34m\u001b[0m\u001b[0;34m\u001b[0m\u001b[0m\n",
            "\u001b[0;31mTypeError\u001b[0m: unsupported operand type(s) for ** or pow(): 'list' and 'int'"
          ]
        }
      ]
    }
  ]
}